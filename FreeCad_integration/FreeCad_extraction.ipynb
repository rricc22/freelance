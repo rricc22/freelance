{
 "cells": [
  {
   "cell_type": "code",
   "execution_count": 2,
   "id": "909f9010",
   "metadata": {},
   "outputs": [
    {
     "name": "stdout",
     "output_type": "stream",
     "text": [
      "Nom : Origin, Type : App::Origin\n",
      "Nom : X_Axis, Type : App::Line\n",
      "Nom : Y_Axis, Type : App::Line\n",
      "Nom : Z_Axis, Type : App::Line\n",
      "Nom : XY_Plane, Type : App::Plane\n",
      "Nom : XZ_Plane, Type : App::Plane\n",
      "Nom : YZ_Plane, Type : App::Plane\n",
      "Nom : Sketch, Type : Sketcher::SketchObject\n",
      "Nom : Sketch001, Type : Sketcher::SketchObject\n",
      "Nom : Sketch002, Type : Sketcher::SketchObject\n"
     ]
    }
   ],
   "source": [
    "import sys\n",
    "sys.path.append('/usr/lib/freecad/lib')\n",
    "\n",
    "import FreeCAD\n",
    "import Part  # utile pour les opérations géométriques\n",
    "\n",
    "# Charge un fichier FreeCAD\n",
    "doc = FreeCAD.openDocument(\"/home/riccardo/Documents/Part_ex.FCStd\")\n",
    "FreeCAD.setActiveDocument(doc.Name)\n",
    "\n",
    "# Liste les objets\n",
    "for obj in doc.Objects:\n",
    "    print(f\"Nom : {obj.Name}, Type : {obj.TypeId}\")\n"
   ]
  },
  {
   "cell_type": "code",
   "execution_count": 3,
   "id": "e600f21c",
   "metadata": {},
   "outputs": [
    {
     "name": "stdout",
     "output_type": "stream",
     "text": [
      "📦 Objets avec forme 3D (Shape) :\n",
      "\n",
      "Nom : Sketch\n",
      " - X : 640.00 mm\n",
      " - Y : 640.00 mm\n",
      " - Z : 0.00 mm\n",
      "\n",
      "Nom : Sketch001\n",
      " - X : 80.00 mm\n",
      " - Y : 50.00 mm\n",
      " - Z : 0.00 mm\n",
      "\n",
      "Nom : Sketch002\n",
      " - X : 0.00 mm\n",
      " - Y : 110.00 mm\n",
      " - Z : 115.00 mm\n",
      "\n"
     ]
    }
   ],
   "source": [
    "import sys\n",
    "sys.path.append('/usr/lib/freecad/lib')\n",
    "\n",
    "import FreeCAD\n",
    "import Part\n",
    "\n",
    "doc = FreeCAD.openDocument(\"/home/riccardo/Documents/Part_ex.FCStd\")\n",
    "FreeCAD.setActiveDocument(doc.Name)\n",
    "\n",
    "print(\"📦 Objets avec forme 3D (Shape) :\\n\")\n",
    "\n",
    "for obj in doc.Objects:\n",
    "    if hasattr(obj, \"Shape\") and not obj.Shape.isNull():\n",
    "        bbox = obj.Shape.BoundBox\n",
    "        print(f\"Nom : {obj.Name}\")\n",
    "        print(f\" - X : {bbox.XLength:.2f} mm\")\n",
    "        print(f\" - Y : {bbox.YLength:.2f} mm\")\n",
    "        print(f\" - Z : {bbox.ZLength:.2f} mm\\n\")\n"
   ]
  },
  {
   "cell_type": "code",
   "execution_count": 4,
   "id": "c06de7ba",
   "metadata": {},
   "outputs": [
    {
     "name": "stdout",
     "output_type": "stream",
     "text": [
      "📐 Contraintes trouvées dans les Sketches :\n",
      "\n",
      "▶ Sketch : Sketch\n",
      "  - [0] Type : Coincident, Valeur : 0.0 mm\n",
      "  - [1] Type : Coincident, Valeur : 0.0 mm\n",
      "  - [2] Type : Radius, Valeur : 300.0 mm\n",
      "  - [3] Type : Radius, Valeur : 320.0 mm\n",
      "▶ Sketch : Sketch001\n",
      "  - [0] Type : PointOnObject, Valeur : 0.0 mm\n",
      "  - [1] Type : PointOnObject, Valeur : 0.0 mm\n",
      "  - [2] Type : Radius, Valeur : 40.0 mm\n",
      "  - [3] Type : Coincident, Valeur : 0.0 mm\n",
      "  - [4] Type : Coincident, Valeur : 0.0 mm\n",
      "  - [5] Type : Horizontal, Valeur : 0.0 mm\n",
      "  - [6] Type : Distance, Valeur : 10.0 mm\n",
      "▶ Sketch : Sketch002\n",
      "  - [0] Type : Coincident, Valeur : 0.0 mm\n",
      "  - [1] Type : Vertical, Valeur : 0.0 mm\n",
      "  - [2] Type : Coincident, Valeur : 0.0 mm\n",
      "  - [3] Type : Horizontal, Valeur : 0.0 mm\n",
      "  - [4] Type : Coincident, Valeur : 0.0 mm\n",
      "  - [5] Type : Vertical, Valeur : 0.0 mm\n",
      "  - [6] Type : Coincident, Valeur : 0.0 mm\n",
      "  - [7] Type : Horizontal, Valeur : 0.0 mm\n",
      "  - [8] Type : Coincident, Valeur : 0.0 mm\n",
      "  - [9] Type : Coincident, Valeur : 0.0 mm\n",
      "  - [10] Type : Horizontal, Valeur : 0.0 mm\n",
      "  - [11] Type : Coincident, Valeur : 0.0 mm\n",
      "  - [12] Type : Coincident, Valeur : 0.0 mm\n",
      "  - [13] Type : Horizontal, Valeur : 0.0 mm\n",
      "  - [14] Type : Coincident, Valeur : 0.0 mm\n",
      "  - [15] Type : Coincident, Valeur : 0.0 mm\n",
      "  - [16] Type : Angle, Valeur : 1.1344640137963142 mm\n",
      "  - [17] Type : Tangent, Valeur : 1.5707963267948966 mm\n",
      "  - [18] Type : Tangent, Valeur : 1.5707963267948966 mm\n",
      "  - [19] Type : Radius, Valeur : 5.0 mm\n",
      "  - [20] Type : Tangent, Valeur : -1.5707963267948966 mm\n",
      "  - [21] Type : Tangent, Valeur : -1.5707963267948966 mm\n",
      "  - [22] Type : Radius, Valeur : 5.0 mm\n",
      "  - [23] Type : Angle, Valeur : 2.6179938779914944 mm\n",
      "  - [24] Type : Distance, Valeur : 275.0 mm\n",
      "  - [25] Type : Distance, Valeur : 305.0 mm\n",
      "  - [26] Type : Distance, Valeur : 285.0 mm\n",
      "  - [27] Type : Distance, Valeur : 260.0 mm\n",
      "  - [28] Type : Distance, Valeur : 242.0 mm\n",
      "  - [29] Type : Distance, Valeur : 225.0 mm\n",
      "  - [30] Type : Distance, Valeur : 210.0 mm\n",
      "  - [31] Type : Distance, Valeur : 145.0 mm\n",
      "  - [32] Type : Distance, Valeur : 105.0 mm\n",
      "  - [33] Type : Distance, Valeur : 175.0 mm\n",
      "  - [34] Type : Angle, Valeur : 1.7453292519943295 mm\n",
      "  - [35] Type : Coincident, Valeur : 0.0 mm\n",
      "  - [36] Type : Coincident, Valeur : 0.0 mm\n",
      "  - [37] Type : Distance, Valeur : 95.0 mm\n"
     ]
    }
   ],
   "source": [
    "import sys\n",
    "sys.path.append('/usr/lib/freecad/lib')\n",
    "\n",
    "import FreeCAD\n",
    "\n",
    "doc = FreeCAD.openDocument(\"/home/riccardo/Documents/Part_ex.FCStd\")\n",
    "FreeCAD.setActiveDocument(doc.Name)\n",
    "\n",
    "print(\"📐 Contraintes trouvées dans les Sketches :\\n\")\n",
    "\n",
    "for obj in doc.Objects:\n",
    "    if obj.TypeId == \"Sketcher::SketchObject\":\n",
    "        print(f\"▶ Sketch : {obj.Name}\")\n",
    "        for i, constraint in enumerate(obj.Constraints):\n",
    "            print(f\"  - [{i}] Type : {constraint.Type}, Valeur : {constraint.Value} mm\")\n"
   ]
  },
  {
   "cell_type": "code",
   "execution_count": 1,
   "id": "1c77dd55",
   "metadata": {},
   "outputs": [],
   "source": [
    "import sys\n",
    "import os\n",
    "import time\n",
    "\n",
    "sys.path.append('/usr/lib/freecad/lib')\n",
    "import FreeCAD\n",
    "import FreeCADGui\n"
   ]
  },
  {
   "cell_type": "code",
   "execution_count": 2,
   "id": "510c6d3b",
   "metadata": {},
   "outputs": [],
   "source": [
    "\n",
    "# === Configuration ===\n",
    "fichier_fcstd = \"/home/riccardo/Visual_Studio_Code/freelance/FreeCad_integration/Part_ex.FCStd\"\n",
    "dossier_sortie = \"/home/riccardo/Visual_Studio_Code/freelance\"\n",
    "os.makedirs(dossier_sortie, exist_ok=True)\n"
   ]
  },
  {
   "cell_type": "code",
   "execution_count": 3,
   "id": "2192db9e",
   "metadata": {},
   "outputs": [
    {
     "ename": "",
     "evalue": "",
     "output_type": "error",
     "traceback": [
      "\u001b[1;31mThe Kernel crashed while executing code in the current cell or a previous cell. \n",
      "\u001b[1;31mPlease review the code in the cell(s) to identify a possible cause of the failure. \n",
      "\u001b[1;31mClick <a href='https://aka.ms/vscodeJupyterKernelCrash'>here</a> for more info. \n",
      "\u001b[1;31mView Jupyter <a href='command:jupyter.viewOutput'>log</a> for further details."
     ]
    }
   ],
   "source": [
    "\n",
    "# === Chargement document ===\n",
    "doc = FreeCAD.openDocument(fichier_fcstd)\n",
    "FreeCAD.setActiveDocument(doc.Name)\n",
    "FreeCADGui.showMainWindow()\n"
   ]
  },
  {
   "cell_type": "code",
   "execution_count": null,
   "id": "df6fb906",
   "metadata": {},
   "outputs": [],
   "source": [
    "\n",
    "view = FreeCADGui.ActiveDocument.ActiveView\n",
    "view.viewAxonometric()\n",
    "view.setCameraType(\"Perspective\")\n",
    "view.fitAll()\n",
    "\n",
    "# === Capture des images ===\n",
    "for i in range(0, 360, 5):\n",
    "    view.rotateRight()\n",
    "    time.sleep(0.05)\n",
    "    image_path = os.path.join(dossier_sortie, f\"frame_{i:03d}.png\")\n",
    "    view.saveImage(image_path, 800, 600, 'White')  # ou 'Transparent' si besoin\n",
    "\n",
    "print(\"✅ Captures terminées.\")\n"
   ]
  },
  {
   "cell_type": "code",
   "execution_count": null,
   "id": "5a9d4075",
   "metadata": {},
   "outputs": [],
   "source": []
  }
 ],
 "metadata": {
  "kernelspec": {
   "display_name": "py39_tf211",
   "language": "python",
   "name": "python3"
  },
  "language_info": {
   "codemirror_mode": {
    "name": "ipython",
    "version": 3
   },
   "file_extension": ".py",
   "mimetype": "text/x-python",
   "name": "python",
   "nbconvert_exporter": "python",
   "pygments_lexer": "ipython3",
   "version": "3.9.18"
  }
 },
 "nbformat": 4,
 "nbformat_minor": 5
}
