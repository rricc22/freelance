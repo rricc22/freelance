{
 "cells": [
  {
   "cell_type": "code",
   "execution_count": 5,
   "id": "a2f29b6a",
   "metadata": {},
   "outputs": [
    {
     "data": {
      "application/vnd.plotly.v1+json": {
       "config": {
        "plotlyServerURL": "https://plot.ly"
       },
       "data": [
        {
         "line": {
          "color": "red",
          "dash": "dash",
          "width": 3
         },
         "mode": "lines+markers",
         "name": "Profil mesuré",
         "type": "scatter",
         "x": [
          40,
          40,
          55,
          55,
          80,
          90,
          100,
          100
         ],
         "y": [
          0,
          30,
          30,
          50,
          50,
          50,
          85,
          0
         ]
        }
       ],
       "layout": {
        "height": 600,
        "images": [
         {
          "layer": "below",
          "opacity": 1,
          "sizex": 150,
          "sizey": 150,
          "sizing": "stretch",
          "source": "data:image/png;base64,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",
          "x": 0,
          "xref": "x",
          "y": 150,
          "yref": "y"
         }
        ],
        "showlegend": true,
        "template": {
         "data": {
          "bar": [
           {
            "error_x": {
             "color": "rgb(36,36,36)"
            },
            "error_y": {
             "color": "rgb(36,36,36)"
            },
            "marker": {
             "line": {
              "color": "white",
              "width": 0.5
             },
             "pattern": {
              "fillmode": "overlay",
              "size": 10,
              "solidity": 0.2
             }
            },
            "type": "bar"
           }
          ],
          "barpolar": [
           {
            "marker": {
             "line": {
              "color": "white",
              "width": 0.5
             },
             "pattern": {
              "fillmode": "overlay",
              "size": 10,
              "solidity": 0.2
             }
            },
            "type": "barpolar"
           }
          ],
          "carpet": [
           {
            "aaxis": {
             "endlinecolor": "rgb(36,36,36)",
             "gridcolor": "white",
             "linecolor": "white",
             "minorgridcolor": "white",
             "startlinecolor": "rgb(36,36,36)"
            },
            "baxis": {
             "endlinecolor": "rgb(36,36,36)",
             "gridcolor": "white",
             "linecolor": "white",
             "minorgridcolor": "white",
             "startlinecolor": "rgb(36,36,36)"
            },
            "type": "carpet"
           }
          ],
          "choropleth": [
           {
            "colorbar": {
             "outlinewidth": 1,
             "tickcolor": "rgb(36,36,36)",
             "ticks": "outside"
            },
            "type": "choropleth"
           }
          ],
          "contour": [
           {
            "colorbar": {
             "outlinewidth": 1,
             "tickcolor": "rgb(36,36,36)",
             "ticks": "outside"
            },
            "colorscale": [
             [
              0,
              "#440154"
             ],
             [
              0.1111111111111111,
              "#482878"
             ],
             [
              0.2222222222222222,
              "#3e4989"
             ],
             [
              0.3333333333333333,
              "#31688e"
             ],
             [
              0.4444444444444444,
              "#26828e"
             ],
             [
              0.5555555555555556,
              "#1f9e89"
             ],
             [
              0.6666666666666666,
              "#35b779"
             ],
             [
              0.7777777777777778,
              "#6ece58"
             ],
             [
              0.8888888888888888,
              "#b5de2b"
             ],
             [
              1,
              "#fde725"
             ]
            ],
            "type": "contour"
           }
          ],
          "contourcarpet": [
           {
            "colorbar": {
             "outlinewidth": 1,
             "tickcolor": "rgb(36,36,36)",
             "ticks": "outside"
            },
            "type": "contourcarpet"
           }
          ],
          "heatmap": [
           {
            "colorbar": {
             "outlinewidth": 1,
             "tickcolor": "rgb(36,36,36)",
             "ticks": "outside"
            },
            "colorscale": [
             [
              0,
              "#440154"
             ],
             [
              0.1111111111111111,
              "#482878"
             ],
             [
              0.2222222222222222,
              "#3e4989"
             ],
             [
              0.3333333333333333,
              "#31688e"
             ],
             [
              0.4444444444444444,
              "#26828e"
             ],
             [
              0.5555555555555556,
              "#1f9e89"
             ],
             [
              0.6666666666666666,
              "#35b779"
             ],
             [
              0.7777777777777778,
              "#6ece58"
             ],
             [
              0.8888888888888888,
              "#b5de2b"
             ],
             [
              1,
              "#fde725"
             ]
            ],
            "type": "heatmap"
           }
          ],
          "heatmapgl": [
           {
            "colorbar": {
             "outlinewidth": 1,
             "tickcolor": "rgb(36,36,36)",
             "ticks": "outside"
            },
            "colorscale": [
             [
              0,
              "#440154"
             ],
             [
              0.1111111111111111,
              "#482878"
             ],
             [
              0.2222222222222222,
              "#3e4989"
             ],
             [
              0.3333333333333333,
              "#31688e"
             ],
             [
              0.4444444444444444,
              "#26828e"
             ],
             [
              0.5555555555555556,
              "#1f9e89"
             ],
             [
              0.6666666666666666,
              "#35b779"
             ],
             [
              0.7777777777777778,
              "#6ece58"
             ],
             [
              0.8888888888888888,
              "#b5de2b"
             ],
             [
              1,
              "#fde725"
             ]
            ],
            "type": "heatmapgl"
           }
          ],
          "histogram": [
           {
            "marker": {
             "line": {
              "color": "white",
              "width": 0.6
             }
            },
            "type": "histogram"
           }
          ],
          "histogram2d": [
           {
            "colorbar": {
             "outlinewidth": 1,
             "tickcolor": "rgb(36,36,36)",
             "ticks": "outside"
            },
            "colorscale": [
             [
              0,
              "#440154"
             ],
             [
              0.1111111111111111,
              "#482878"
             ],
             [
              0.2222222222222222,
              "#3e4989"
             ],
             [
              0.3333333333333333,
              "#31688e"
             ],
             [
              0.4444444444444444,
              "#26828e"
             ],
             [
              0.5555555555555556,
              "#1f9e89"
             ],
             [
              0.6666666666666666,
              "#35b779"
             ],
             [
              0.7777777777777778,
              "#6ece58"
             ],
             [
              0.8888888888888888,
              "#b5de2b"
             ],
             [
              1,
              "#fde725"
             ]
            ],
            "type": "histogram2d"
           }
          ],
          "histogram2dcontour": [
           {
            "colorbar": {
             "outlinewidth": 1,
             "tickcolor": "rgb(36,36,36)",
             "ticks": "outside"
            },
            "colorscale": [
             [
              0,
              "#440154"
             ],
             [
              0.1111111111111111,
              "#482878"
             ],
             [
              0.2222222222222222,
              "#3e4989"
             ],
             [
              0.3333333333333333,
              "#31688e"
             ],
             [
              0.4444444444444444,
              "#26828e"
             ],
             [
              0.5555555555555556,
              "#1f9e89"
             ],
             [
              0.6666666666666666,
              "#35b779"
             ],
             [
              0.7777777777777778,
              "#6ece58"
             ],
             [
              0.8888888888888888,
              "#b5de2b"
             ],
             [
              1,
              "#fde725"
             ]
            ],
            "type": "histogram2dcontour"
           }
          ],
          "mesh3d": [
           {
            "colorbar": {
             "outlinewidth": 1,
             "tickcolor": "rgb(36,36,36)",
             "ticks": "outside"
            },
            "type": "mesh3d"
           }
          ],
          "parcoords": [
           {
            "line": {
             "colorbar": {
              "outlinewidth": 1,
              "tickcolor": "rgb(36,36,36)",
              "ticks": "outside"
             }
            },
            "type": "parcoords"
           }
          ],
          "pie": [
           {
            "automargin": true,
            "type": "pie"
           }
          ],
          "scatter": [
           {
            "fillpattern": {
             "fillmode": "overlay",
             "size": 10,
             "solidity": 0.2
            },
            "type": "scatter"
           }
          ],
          "scatter3d": [
           {
            "line": {
             "colorbar": {
              "outlinewidth": 1,
              "tickcolor": "rgb(36,36,36)",
              "ticks": "outside"
             }
            },
            "marker": {
             "colorbar": {
              "outlinewidth": 1,
              "tickcolor": "rgb(36,36,36)",
              "ticks": "outside"
             }
            },
            "type": "scatter3d"
           }
          ],
          "scattercarpet": [
           {
            "marker": {
             "colorbar": {
              "outlinewidth": 1,
              "tickcolor": "rgb(36,36,36)",
              "ticks": "outside"
             }
            },
            "type": "scattercarpet"
           }
          ],
          "scattergeo": [
           {
            "marker": {
             "colorbar": {
              "outlinewidth": 1,
              "tickcolor": "rgb(36,36,36)",
              "ticks": "outside"
             }
            },
            "type": "scattergeo"
           }
          ],
          "scattergl": [
           {
            "marker": {
             "colorbar": {
              "outlinewidth": 1,
              "tickcolor": "rgb(36,36,36)",
              "ticks": "outside"
             }
            },
            "type": "scattergl"
           }
          ],
          "scattermapbox": [
           {
            "marker": {
             "colorbar": {
              "outlinewidth": 1,
              "tickcolor": "rgb(36,36,36)",
              "ticks": "outside"
             }
            },
            "type": "scattermapbox"
           }
          ],
          "scatterpolar": [
           {
            "marker": {
             "colorbar": {
              "outlinewidth": 1,
              "tickcolor": "rgb(36,36,36)",
              "ticks": "outside"
             }
            },
            "type": "scatterpolar"
           }
          ],
          "scatterpolargl": [
           {
            "marker": {
             "colorbar": {
              "outlinewidth": 1,
              "tickcolor": "rgb(36,36,36)",
              "ticks": "outside"
             }
            },
            "type": "scatterpolargl"
           }
          ],
          "scatterternary": [
           {
            "marker": {
             "colorbar": {
              "outlinewidth": 1,
              "tickcolor": "rgb(36,36,36)",
              "ticks": "outside"
             }
            },
            "type": "scatterternary"
           }
          ],
          "surface": [
           {
            "colorbar": {
             "outlinewidth": 1,
             "tickcolor": "rgb(36,36,36)",
             "ticks": "outside"
            },
            "colorscale": [
             [
              0,
              "#440154"
             ],
             [
              0.1111111111111111,
              "#482878"
             ],
             [
              0.2222222222222222,
              "#3e4989"
             ],
             [
              0.3333333333333333,
              "#31688e"
             ],
             [
              0.4444444444444444,
              "#26828e"
             ],
             [
              0.5555555555555556,
              "#1f9e89"
             ],
             [
              0.6666666666666666,
              "#35b779"
             ],
             [
              0.7777777777777778,
              "#6ece58"
             ],
             [
              0.8888888888888888,
              "#b5de2b"
             ],
             [
              1,
              "#fde725"
             ]
            ],
            "type": "surface"
           }
          ],
          "table": [
           {
            "cells": {
             "fill": {
              "color": "rgb(237,237,237)"
             },
             "line": {
              "color": "white"
             }
            },
            "header": {
             "fill": {
              "color": "rgb(217,217,217)"
             },
             "line": {
              "color": "white"
             }
            },
            "type": "table"
           }
          ]
         },
         "layout": {
          "annotationdefaults": {
           "arrowhead": 0,
           "arrowwidth": 1
          },
          "autotypenumbers": "strict",
          "coloraxis": {
           "colorbar": {
            "outlinewidth": 1,
            "tickcolor": "rgb(36,36,36)",
            "ticks": "outside"
           }
          },
          "colorscale": {
           "diverging": [
            [
             0,
             "rgb(103,0,31)"
            ],
            [
             0.1,
             "rgb(178,24,43)"
            ],
            [
             0.2,
             "rgb(214,96,77)"
            ],
            [
             0.3,
             "rgb(244,165,130)"
            ],
            [
             0.4,
             "rgb(253,219,199)"
            ],
            [
             0.5,
             "rgb(247,247,247)"
            ],
            [
             0.6,
             "rgb(209,229,240)"
            ],
            [
             0.7,
             "rgb(146,197,222)"
            ],
            [
             0.8,
             "rgb(67,147,195)"
            ],
            [
             0.9,
             "rgb(33,102,172)"
            ],
            [
             1,
             "rgb(5,48,97)"
            ]
           ],
           "sequential": [
            [
             0,
             "#440154"
            ],
            [
             0.1111111111111111,
             "#482878"
            ],
            [
             0.2222222222222222,
             "#3e4989"
            ],
            [
             0.3333333333333333,
             "#31688e"
            ],
            [
             0.4444444444444444,
             "#26828e"
            ],
            [
             0.5555555555555556,
             "#1f9e89"
            ],
            [
             0.6666666666666666,
             "#35b779"
            ],
            [
             0.7777777777777778,
             "#6ece58"
            ],
            [
             0.8888888888888888,
             "#b5de2b"
            ],
            [
             1,
             "#fde725"
            ]
           ],
           "sequentialminus": [
            [
             0,
             "#440154"
            ],
            [
             0.1111111111111111,
             "#482878"
            ],
            [
             0.2222222222222222,
             "#3e4989"
            ],
            [
             0.3333333333333333,
             "#31688e"
            ],
            [
             0.4444444444444444,
             "#26828e"
            ],
            [
             0.5555555555555556,
             "#1f9e89"
            ],
            [
             0.6666666666666666,
             "#35b779"
            ],
            [
             0.7777777777777778,
             "#6ece58"
            ],
            [
             0.8888888888888888,
             "#b5de2b"
            ],
            [
             1,
             "#fde725"
            ]
           ]
          },
          "colorway": [
           "#1F77B4",
           "#FF7F0E",
           "#2CA02C",
           "#D62728",
           "#9467BD",
           "#8C564B",
           "#E377C2",
           "#7F7F7F",
           "#BCBD22",
           "#17BECF"
          ],
          "font": {
           "color": "rgb(36,36,36)"
          },
          "geo": {
           "bgcolor": "white",
           "lakecolor": "white",
           "landcolor": "white",
           "showlakes": true,
           "showland": true,
           "subunitcolor": "white"
          },
          "hoverlabel": {
           "align": "left"
          },
          "hovermode": "closest",
          "mapbox": {
           "style": "light"
          },
          "paper_bgcolor": "white",
          "plot_bgcolor": "white",
          "polar": {
           "angularaxis": {
            "gridcolor": "rgb(232,232,232)",
            "linecolor": "rgb(36,36,36)",
            "showgrid": false,
            "showline": true,
            "ticks": "outside"
           },
           "bgcolor": "white",
           "radialaxis": {
            "gridcolor": "rgb(232,232,232)",
            "linecolor": "rgb(36,36,36)",
            "showgrid": false,
            "showline": true,
            "ticks": "outside"
           }
          },
          "scene": {
           "xaxis": {
            "backgroundcolor": "white",
            "gridcolor": "rgb(232,232,232)",
            "gridwidth": 2,
            "linecolor": "rgb(36,36,36)",
            "showbackground": true,
            "showgrid": false,
            "showline": true,
            "ticks": "outside",
            "zeroline": false,
            "zerolinecolor": "rgb(36,36,36)"
           },
           "yaxis": {
            "backgroundcolor": "white",
            "gridcolor": "rgb(232,232,232)",
            "gridwidth": 2,
            "linecolor": "rgb(36,36,36)",
            "showbackground": true,
            "showgrid": false,
            "showline": true,
            "ticks": "outside",
            "zeroline": false,
            "zerolinecolor": "rgb(36,36,36)"
           },
           "zaxis": {
            "backgroundcolor": "white",
            "gridcolor": "rgb(232,232,232)",
            "gridwidth": 2,
            "linecolor": "rgb(36,36,36)",
            "showbackground": true,
            "showgrid": false,
            "showline": true,
            "ticks": "outside",
            "zeroline": false,
            "zerolinecolor": "rgb(36,36,36)"
           }
          },
          "shapedefaults": {
           "fillcolor": "black",
           "line": {
            "width": 0
           },
           "opacity": 0.3
          },
          "ternary": {
           "aaxis": {
            "gridcolor": "rgb(232,232,232)",
            "linecolor": "rgb(36,36,36)",
            "showgrid": false,
            "showline": true,
            "ticks": "outside"
           },
           "baxis": {
            "gridcolor": "rgb(232,232,232)",
            "linecolor": "rgb(36,36,36)",
            "showgrid": false,
            "showline": true,
            "ticks": "outside"
           },
           "bgcolor": "white",
           "caxis": {
            "gridcolor": "rgb(232,232,232)",
            "linecolor": "rgb(36,36,36)",
            "showgrid": false,
            "showline": true,
            "ticks": "outside"
           }
          },
          "title": {
           "x": 0.05
          },
          "xaxis": {
           "automargin": true,
           "gridcolor": "rgb(232,232,232)",
           "linecolor": "rgb(36,36,36)",
           "showgrid": false,
           "showline": true,
           "ticks": "outside",
           "title": {
            "standoff": 15
           },
           "zeroline": false,
           "zerolinecolor": "rgb(36,36,36)"
          },
          "yaxis": {
           "automargin": true,
           "gridcolor": "rgb(232,232,232)",
           "linecolor": "rgb(36,36,36)",
           "showgrid": false,
           "showline": true,
           "ticks": "outside",
           "title": {
            "standoff": 15
           },
           "zeroline": false,
           "zerolinecolor": "rgb(36,36,36)"
          }
         }
        },
        "title": {
         "text": "Superposition du profil mesuré sur image section théorique"
        },
        "width": 600,
        "xaxis": {
         "range": [
          0,
          150
         ],
         "scaleanchor": "y",
         "scaleratio": 1
        },
        "yaxis": {
         "range": [
          0,
          150
         ]
        }
       }
      }
     },
     "metadata": {},
     "output_type": "display_data"
    }
   ],
   "source": [
    "import plotly.graph_objects as go\n",
    "from PIL import Image\n",
    "import base64\n",
    "from io import BytesIO\n",
    "\n",
    "# Charger l'image de fond (section théorique)\n",
    "image_path = \"/home/riccardo/Visual_Studio_Code/freelance/Dynamique_evolution/screen1.png\"\n",
    "img = Image.open(image_path)\n",
    "\n",
    "# Convertir l'image en base64 pour Plotly\n",
    "buffered = BytesIO()\n",
    "img.save(buffered, format=\"PNG\")\n",
    "img_b64 = base64.b64encode(buffered.getvalue()).decode()\n",
    "\n",
    "# Dimensions arbitraires correspondant au plan (à ajuster en fonction de l’échelle de l’image)\n",
    "image_width_mm = 150\n",
    "image_height_mm = 150\n",
    "\n",
    "# Cotes mesurées fictives pour le tracé rouge\n",
    "x_mesure = [40, 40, 55, 55, 80, 90, 100, 100]\n",
    "y_mesure = [0, 30, 30, 50, 50, 50, 85, 0]\n",
    "\n",
    "# Création de la figure avec image de fond\n",
    "fig = go.Figure()\n",
    "\n",
    "fig.add_layout_image(\n",
    "    dict(\n",
    "        source=f\"data:image/png;base64,{img_b64}\",\n",
    "        xref=\"x\",\n",
    "        yref=\"y\",\n",
    "        x=0,\n",
    "        y=image_height_mm,\n",
    "        sizex=image_width_mm,\n",
    "        sizey=image_height_mm,\n",
    "        sizing=\"stretch\",\n",
    "        opacity=1.0,\n",
    "        layer=\"below\"\n",
    "    )\n",
    ")\n",
    "\n",
    "# Ajouter le tracé du profil mesuré (en rouge)\n",
    "fig.add_trace(go.Scatter(\n",
    "    x=x_mesure,\n",
    "    y=y_mesure,\n",
    "    mode='lines+markers',\n",
    "    name='Profil mesuré',\n",
    "    line=dict(color='red', width=3, dash='dash')\n",
    "))\n",
    "\n",
    "fig.update_layout(\n",
    "    title=\"Superposition du profil mesuré sur image section théorique\",\n",
    "    xaxis=dict(range=[0, image_width_mm], scaleanchor=\"y\", scaleratio=1),\n",
    "    yaxis=dict(range=[0, image_height_mm]),\n",
    "    width=600,\n",
    "    height=600,\n",
    "    template=\"simple_white\",\n",
    "    showlegend=True\n",
    ")\n",
    "\n",
    "fig.show()\n"
   ]
  },
  {
   "cell_type": "code",
   "execution_count": 8,
   "id": "285ea71d",
   "metadata": {},
   "outputs": [
    {
     "data": {
      "text/plain": [
       "'test_annotated.svg'"
      ]
     },
     "execution_count": 8,
     "metadata": {},
     "output_type": "execute_result"
    }
   ],
   "source": [
    "from xml.etree import ElementTree as ET\n",
    "\n",
    "# Charger le fichier SVG original\n",
    "svg_path = \"/home/riccardo/Visual_Studio_Code/freelance/Dynamique_evolution/test.svg\"\n",
    "tree = ET.parse(svg_path)\n",
    "root = tree.getroot()\n",
    "\n",
    "# Espace de nom utilisé dans les fichiers SVG\n",
    "ns = {\"svg\": \"http://www.w3.org/2000/svg\"}\n",
    "\n",
    "# Simulation : ajouter des textes à des positions précises\n",
    "annotations = {\n",
    "    \"R275_ext\": (100, 100),\n",
    "    \"D_base_int\": (200, 150),\n",
    "    \"H_epaulement1\": (80, 220)\n",
    "}\n",
    "\n",
    "for label, (x, y) in annotations.items():\n",
    "    text_element = ET.Element(\"{http://www.w3.org/2000/svg}text\", {\n",
    "        \"x\": str(x),\n",
    "        \"y\": str(y),\n",
    "        \"fill\": \"red\",\n",
    "        \"font-size\": \"12\",\n",
    "        \"font-family\": \"Arial\"\n",
    "    })\n",
    "    text_element.text = f\"{label}: 275.2\"\n",
    "    root.append(text_element)\n",
    "\n",
    "# Sauvegarde du SVG annoté\n",
    "annotated_svg_path = \"test_annotated.svg\"\n",
    "tree.write(annotated_svg_path)\n",
    "annotated_svg_path\n"
   ]
  },
  {
   "cell_type": "code",
   "execution_count": 10,
   "id": "581f6b11",
   "metadata": {},
   "outputs": [
    {
     "name": "stderr",
     "output_type": "stream",
     "text": [
      "/home/riccardo/anaconda3/envs/py39_tf211/lib/python3.9/site-packages/pandas/core/arrays/masked.py:60: UserWarning:\n",
      "\n",
      "Pandas requires version '1.3.6' or newer of 'bottleneck' (version '1.3.5' currently installed).\n",
      "\n"
     ]
    },
    {
     "data": {
      "text/plain": [
       "'est_annotated_with_coords.svg'"
      ]
     },
     "execution_count": 10,
     "metadata": {},
     "output_type": "execute_result"
    }
   ],
   "source": [
    "from xml.etree import ElementTree as ET\n",
    "import pandas as pd\n",
    "# Charger le SVG d'origine\n",
    "\n",
    "svg_path = \"/home/riccardo/Visual_Studio_Code/freelance/Dynamique_evolution/test.svg\"\n",
    "tree = ET.parse(svg_path)\n",
    "root = tree.getroot()\n",
    "\n",
    "# Charger les coordonnées des annotations\n",
    "coords_df = pd.read_csv(\"coordonnees_annotations_cotes.csv\")\n",
    "\n",
    "# Ajouter les textes au SVG\n",
    "for _, row in coords_df.iterrows():\n",
    "    text_element = ET.Element(\"{http://www.w3.org/2000/svg}text\", {\n",
    "        \"x\": str(row[\"x_absolu\"]),\n",
    "        \"y\": str(row[\"y_absolu\"]),\n",
    "        \"fill\": \"red\",\n",
    "        \"font-size\": \"10\",\n",
    "        \"font-family\": \"Arial\"\n",
    "    })\n",
    "    text_element.text = row[\"cote\"]\n",
    "    root.append(text_element)\n",
    "\n",
    "# Sauvegarder le SVG annoté\n",
    "annotated_svg_path = \"est_annotated_with_coords.svg\"\n",
    "tree.write(annotated_svg_path)\n",
    "\n",
    "annotated_svg_path\n"
   ]
  },
  {
   "cell_type": "code",
   "execution_count": null,
   "id": "40b197ba",
   "metadata": {},
   "outputs": [],
   "source": []
  }
 ],
 "metadata": {
  "kernelspec": {
   "display_name": "py39_tf211",
   "language": "python",
   "name": "python3"
  },
  "language_info": {
   "codemirror_mode": {
    "name": "ipython",
    "version": 3
   },
   "file_extension": ".py",
   "mimetype": "text/x-python",
   "name": "python",
   "nbconvert_exporter": "python",
   "pygments_lexer": "ipython3",
   "version": "3.9.18"
  }
 },
 "nbformat": 4,
 "nbformat_minor": 5
}
