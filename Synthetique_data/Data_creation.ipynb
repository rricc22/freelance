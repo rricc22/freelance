{
 "cells": [
  {
   "cell_type": "code",
   "execution_count": 5,
   "id": "d07f3eca",
   "metadata": {},
   "outputs": [
    {
     "name": "stdout",
     "output_type": "stream",
     "text": [
      "     Datetime Serial    OF    Cote  Mesure_Theorique  Tolérance_Min  \\\n",
      "0  2025-05-08  S0001  8213  275,00           274.960         274.80   \n",
      "1  2025-05-08  S0001  8213  210,00           209.851         209.70   \n",
      "2  2025-05-08  S0001  8213  320,00           319.965         319.80   \n",
      "3  2025-05-08  S0001  8213   40,00            40.043          39.90   \n",
      "4  2025-05-08  S0001  8213  325,81           325.833         325.31   \n",
      "\n",
      "   Tolérance_Max  \n",
      "0         275.10  \n",
      "1         210.30  \n",
      "2         320.30  \n",
      "3          40.10  \n",
      "4         326.11  \n"
     ]
    }
   ],
   "source": [
    "import pandas as pd\n",
    "import numpy as np\n",
    "from datetime import datetime, timedelta\n",
    "\n",
    "# Définition des cotes et tolérances\n",
    "cotes_data = {\n",
    "    'Cote': ['275,00', '210,00', '320,00', '40,00', '325,81', '275,00', '30,00', '79,97', '40,00', \n",
    "             '175,00', '145,00', '4,00', '85,00', '95,00', '105,00'],\n",
    "    'Tolérance Supérieure': [0.10, 0.30, 0.30, 0.10, 0.30, 0.60, 0.40, 0.20, 0.15, 0.25, 0.20, 0.05, 0.20, 0.25, 0.20],\n",
    "    'Tolérance Inférieure': [-0.20, -0.30, -0.20, -0.10, -0.50, -0.60, -0.40, -0.20, -0.15, -0.25, -0.20, -0.05, -0.20, -0.25, -0.20]\n",
    "}\n",
    "\n",
    "# Simulation des mesures pour 100 pièces\n",
    "num_samples = 100\n",
    "date_start = datetime.now().date()\n",
    "\n",
    "data_samples = []\n",
    "for i in range(num_samples):\n",
    "    sample_date = date_start + timedelta(days=i)\n",
    "    serial_number = f\"S{i+1:04d}\"\n",
    "    order_fabrication = f\"{np.random.randint(1000, 9999)}\"\n",
    "    \n",
    "    for cote, tol_sup, tol_inf in zip(cotes_data['Cote'], cotes_data['Tolérance Supérieure'], cotes_data['Tolérance Inférieure']):\n",
    "        cote_valeur = float(cote.replace(',', '.'))\n",
    "        mesure_theorique = np.round(np.random.uniform(cote_valeur + tol_inf, cote_valeur + tol_sup), 3)\n",
    "        tol_min = cote_valeur + tol_inf\n",
    "        tol_max = cote_valeur + tol_sup\n",
    "\n",
    "        data_samples.append({\n",
    "            \"Datetime\": sample_date,\n",
    "            \"Serial\": serial_number,\n",
    "            \"OF\": order_fabrication,\n",
    "            \"Cote\": cote,\n",
    "            \"Mesure_Theorique\": mesure_theorique,\n",
    "            \"Tolérance_Min\": tol_min,\n",
    "            \"Tolérance_Max\": tol_max\n",
    "        })\n",
    "\n",
    "# Création du DataFrame final\n",
    "df_samples = pd.DataFrame(data_samples)\n",
    "\n",
    "# Affichage ou sauvegarde\n",
    "print(df_samples.head())\n",
    "df_samples.to_csv(\"simulation_mesures.csv\", index=False)\n"
   ]
  },
  {
   "cell_type": "code",
   "execution_count": null,
   "id": "f43890d6",
   "metadata": {},
   "outputs": [],
   "source": []
  }
 ],
 "metadata": {
  "kernelspec": {
   "display_name": "py39_tf211",
   "language": "python",
   "name": "python3"
  },
  "language_info": {
   "codemirror_mode": {
    "name": "ipython",
    "version": 3
   },
   "file_extension": ".py",
   "mimetype": "text/x-python",
   "name": "python",
   "nbconvert_exporter": "python",
   "pygments_lexer": "ipython3",
   "version": "3.9.18"
  }
 },
 "nbformat": 4,
 "nbformat_minor": 5
}
