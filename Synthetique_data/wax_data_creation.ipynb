{
 "cells": [
  {
   "cell_type": "code",
   "execution_count": 6,
   "id": "c82f47cb",
   "metadata": {},
   "outputs": [],
   "source": [
    "import pandas as pd\n",
    "import numpy as np\n",
    "\n",
    "# Chargement des fichiers originaux\n",
    "df_metal = pd.read_csv(\"/home/riccardo/Visual_Studio_Code/freelance/Synthetique_data/simulation_mesures_metal.csv\")\n",
    "\n",
    "# Mise à jour des noms de colonnes pour correspondre à ceux fournis par l'utilisateur\n",
    "# df_unique_cotes_metal = df_metal.drop_duplicates(subset=\"Nom_Cote\", keep=\"first\").copy()\n"
   ]
  },
  {
   "cell_type": "code",
   "execution_count": 38,
   "id": "59a74752",
   "metadata": {},
   "outputs": [],
   "source": [
    "def simuler_mesures_corrigee_nominal_base(\n",
    "    df_metal,\n",
    "    nom_prefixe=\"Cire_\",\n",
    "    surcote_mm=0.15,\n",
    "    bruit_mesure_mm=0.01,\n",
    "    resserrement_tol=0.5\n",
    "):\n",
    "    lignes = []\n",
    "\n",
    "    for _, row in df_metal.iterrows():\n",
    "        nom_cote = row[\"Nom_Cote\"]\n",
    "        serial = row[\"Serial\"]\n",
    "        of = row[\"OF\"]\n",
    "        valeur_nominale = row[\"Nominal\"]\n",
    "        tol_plus = row[\"Tolérance_Max\"] - valeur_nominale\n",
    "        tol_moins = row[\"Tolérance_Min\"] - valeur_nominale\n",
    "\n",
    "        # Nouvelle nominale avec surcote\n",
    "        nouvelle_nominale = valeur_nominale + surcote_mm\n",
    "\n",
    "        # Tolérances resserrées autour de la nouvelle valeur nominale\n",
    "        nouvelle_tol_plus = round(nouvelle_nominale + (tol_plus * resserrement_tol), 3)\n",
    "        nouvelle_tol_moins = round(nouvelle_nominale + (tol_moins * resserrement_tol), 3)\n",
    "\n",
    "        # Sigma basé sur tolérance\n",
    "        sigma = min(nouvelle_tol_plus - nouvelle_nominale, abs(nouvelle_tol_moins - nouvelle_nominale)) / 3\n",
    "        if sigma <= 0:\n",
    "            sigma = 0.01\n",
    "\n",
    "        # Mesure simulée autour de la nouvelle nominale\n",
    "        mesuree = round(np.random.normal(loc=nouvelle_nominale, scale=sigma), 3)\n",
    "        mesuree += round(np.random.normal(loc=0, scale=bruit_mesure_mm), 3)\n",
    "\n",
    "        lignes.append({\n",
    "            \"Date\": pd.Timestamp.today().normalize(),\n",
    "            \"Serial\": serial,\n",
    "            \"OF\": of,\n",
    "            \"Nom_Cote\": nom_prefixe + nom_cote,\n",
    "            \"Mesure\": mesuree,\n",
    "            \"Nominal\": nouvelle_nominale,\n",
    "            \"Tolérance_Min\": nouvelle_tol_moins,\n",
    "            \"Tolérance_Max\": nouvelle_tol_plus\n",
    "        })\n",
    "\n",
    "    return pd.DataFrame(lignes)\n",
    "\n",
    "\n"
   ]
  },
  {
   "cell_type": "code",
   "execution_count": 39,
   "id": "582b5910",
   "metadata": {},
   "outputs": [
    {
     "name": "stdout",
     "output_type": "stream",
     "text": [
      "✅ Fichier exporté : /home/riccardo/Visual_Studio_Code/freelance/Synthetique_data/simulation_mesures_cire.csv\n"
     ]
    }
   ],
   "source": [
    "\n",
    "# Fusion avec les données d'origine\n",
    "df_simule_cire = simuler_mesures_corrigee_nominal_base(df_metal)\n",
    "\n",
    "output_path_cire = \"/home/riccardo/Visual_Studio_Code/freelance/Synthetique_data/simulation_mesures_cire.csv\"\n",
    "df_simule_cire.to_csv(output_path_cire, index=False)\n",
    "print(f\"✅ Fichier exporté : {output_path_cire}\")"
   ]
  },
  {
   "cell_type": "code",
   "execution_count": null,
   "id": "1f4bd6ec",
   "metadata": {},
   "outputs": [],
   "source": []
  }
 ],
 "metadata": {
  "kernelspec": {
   "display_name": "py39_tf211",
   "language": "python",
   "name": "python3"
  },
  "language_info": {
   "codemirror_mode": {
    "name": "ipython",
    "version": 3
   },
   "file_extension": ".py",
   "mimetype": "text/x-python",
   "name": "python",
   "nbconvert_exporter": "python",
   "pygments_lexer": "ipython3",
   "version": "3.9.18"
  }
 },
 "nbformat": 4,
 "nbformat_minor": 5
}
