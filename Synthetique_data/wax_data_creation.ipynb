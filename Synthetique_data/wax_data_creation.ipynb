{
 "cells": [
  {
   "cell_type": "code",
   "execution_count": null,
   "id": "c82f47cb",
   "metadata": {},
   "outputs": [],
   "source": [
    "import pandas as pd\n",
    "import numpy as np\n",
    "\n",
    "# Chargement des fichiers originaux\n",
    "df_wax = pd.read_csv(\"/home/riccardo/Visual_Studio_Code/freelance/Synthetique_data/simulation_mesures_avec_nom.csv\")\n",
    "df_metal = pd.read_csv(\"/home/riccardo/Visual_Studio_Code/freelance/Synthetique_data/simulation_mesures_metal.csv\")\n",
    "\n",
    "# Mise à jour des noms de colonnes pour correspondre à ceux fournis par l'utilisateur\n",
    "df_unique_cotes_wax = df_wax.drop_duplicates(subset=\"Nom_Cote\", keep=\"first\").copy()\n",
    "df_unique_cotes_metal = df_metal.drop_duplicates(subset=\"Nom_Cote\", keep=\"first\").copy()\n"
   ]
  },
  {
   "cell_type": "code",
   "execution_count": null,
   "id": "a5c033d7",
   "metadata": {},
   "outputs": [],
   "source": [
    "def simuler_mesures_corrigé(\n",
    "    df,\n",
    "    nom_prefixe=\"Cire_\",\n",
    "    surcote_mm=0.15,\n",
    "    resserrement_tol=0.5,\n",
    "    bruit_mesure_mm=0.01\n",
    "):\n",
    "    import pandas as pd\n",
    "    import numpy as np\n",
    "\n",
    "    lignes = []\n",
    "\n",
    "    # Conversion éventuelle de la colonne \"Cote\"\n",
    "    if df[\"Cote\"].dtype == 'object':\n",
    "        df[\"Cote\"] = df[\"Cote\"].str.replace(\",\", \".\").astype(float)\n",
    "\n",
    "    for _, row in df.iterrows():\n",
    "        nom_cote = row[\"Nom_Cote\"]\n",
    "        cote_plan = row[\"Cote\"]  # valeur nominale métal\n",
    "        valeur_nominale = row[\"Mesure_Theorique\"]  # base pour surcote\n",
    "        tol_plus = row[\"Tolérance_Max\"] - cote_plan\n",
    "        tol_moins = row[\"Tolérance_Min\"] - cote_plan\n",
    "\n",
    "        # Surcote appliquée\n",
    "        nouvelle_nominale = valeur_nominale + surcote_mm\n",
    "\n",
    "        # Tolérances resserrées autour de la valeur attendue\n",
    "        nouvelle_tol_plus = (tol_plus * resserrement_tol) + cote_plan\n",
    "        nouvelle_tol_moins = (tol_moins * resserrement_tol) + cote_plan\n",
    "\n",
    "        # Écart-type basé sur tolérance\n",
    "        sigma = min(nouvelle_tol_plus - cote_plan, abs(nouvelle_tol_moins - cote_plan)) / 3\n",
    "        ecarts = np.random.normal(loc=0, scale=sigma, size=100)\n",
    "        mesures_theoriques = np.round(nouvelle_nominale + ecarts, 4)\n",
    "\n",
    "        # Bruit de mesure (si activé)\n",
    "        bruit = np.random.normal(loc=0, scale=bruit_mesure_mm, size=100)\n",
    "        valeurs_mesurees = np.round(mesures_theoriques + bruit, 4)\n",
    "\n",
    "        for i, (theorique, mesuree) in enumerate(zip(mesures_theoriques, valeurs_mesurees)):\n",
    "            lignes.append({\n",
    "                \"Date\": pd.Timestamp.today().normalize(),\n",
    "                \"Serial\": f\"{nom_prefixe}{i+1:03}\",\n",
    "                \"OF\": \"SIM\",\n",
    "                \"Nom_Cote\": nom_prefixe + nom_cote,\n",
    "                \"Mesure\": mesuree,\n",
    "                \"Nominal\": cote_plan,\n",
    "                \"Tolérance_Min\": nouvelle_tol_moins,\n",
    "                \"Tolérance_Max\": nouvelle_tol_plus\n",
    "            })\n",
    "\n",
    "    return pd.DataFrame(lignes)\n"
   ]
  },
  {
   "cell_type": "code",
   "execution_count": 15,
   "id": "c973fec5",
   "metadata": {},
   "outputs": [
    {
     "name": "stdout",
     "output_type": "stream",
     "text": [
      "✅ Fichier exporté : /home/riccardo/Visual_Studio_Code/freelance/Synthetique_data/simulation_mesures_cire.csv\n"
     ]
    }
   ],
   "source": [
    "# Relancer la simulation avec les bons noms de colonnes\n",
    "df_simule_cire = simuler_mesures_corrigé(df_unique_cotes)\n",
    "\n",
    "# Fusion avec les données d'origine\n",
    "df_comparatif = pd.concat([df, df_simule_cire], ignore_index=True)\n",
    "\n",
    "output_path_cire = \"/home/riccardo/Visual_Studio_Code/freelance/Synthetique_data/simulation_mesures_cire.csv\"\n",
    "df_simule_cire.to_csv(output_path_cire, index=False)\n",
    "print(f\"✅ Fichier exporté : {output_path_cire}\")"
   ]
  },
  {
   "cell_type": "code",
   "execution_count": null,
   "id": "1f4bd6ec",
   "metadata": {},
   "outputs": [],
   "source": []
  }
 ],
 "metadata": {
  "kernelspec": {
   "display_name": "py39_tf211",
   "language": "python",
   "name": "python3"
  },
  "language_info": {
   "codemirror_mode": {
    "name": "ipython",
    "version": 3
   },
   "file_extension": ".py",
   "mimetype": "text/x-python",
   "name": "python",
   "nbconvert_exporter": "python",
   "pygments_lexer": "ipython3",
   "version": "3.9.18"
  }
 },
 "nbformat": 4,
 "nbformat_minor": 5
}
