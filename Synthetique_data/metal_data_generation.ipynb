{
 "cells": [
  {
   "cell_type": "code",
   "execution_count": 6,
   "id": "f43890d6",
   "metadata": {},
   "outputs": [
    {
     "name": "stdout",
     "output_type": "stream",
     "text": [
      "         Date Serial    OF               Nom_Cote   Mesure  Nominal  \\\n",
      "0  2025-05-10  S0001  9009        Rayon extérieur  275.009   275.00   \n",
      "1  2025-05-10  S0001  9009  Rayon intérieur jante  209.874   210.00   \n",
      "2  2025-05-10  S0001  9009        Rayon hors tout  320.103   320.00   \n",
      "3  2025-05-10  S0001  9009             Rayon fond   39.910    40.00   \n",
      "4  2025-05-10  S0001  9009    Diamètre global max  325.472   325.81   \n",
      "\n",
      "   Tolérance_Min  Tolérance_Max  \n",
      "0         274.80         275.10  \n",
      "1         209.70         210.30  \n",
      "2         319.80         320.30  \n",
      "3          39.90          40.10  \n",
      "4         325.31         326.11  \n"
     ]
    }
   ],
   "source": [
    "import pandas as pd\n",
    "import numpy as np\n",
    "from datetime import datetime, timedelta\n",
    "\n",
    "# Définition des cotes et tolérances avec noms\n",
    "cotes_data = {\n",
    "    'Cote': [275.000, 210.000, 320.000, 40.000, 325.810, 275.000, 30.000, 79.970, 40.000,\n",
    "             175.000, 145.000, 4.000, 85.000, 95.000, 105.000],\n",
    "    'Tolérance Supérieure': [0.100, 0.300, 0.300, 0.100, 0.300, 0.600, 0.400, 0.200, 0.150, 0.250, 0.200, 0.050, 0.200, 0.250, 0.200],\n",
    "    'Tolérance Inférieure': [-0.200, -0.300, -0.200, -0.100, -0.500, -0.600, -0.400, -0.200, -0.150, -0.250, -0.200, -0.050, -0.200, -0.250, -0.200],\n",
    "    'Nom_Cote': [\n",
    "        \"Rayon extérieur\", \"Rayon intérieur jante\", \"Rayon hors tout\",\n",
    "        \"Rayon fond\", \"Diamètre global max\", \"Rayon extérieur (2e mention)\",\n",
    "        \"Épaisseur patin\", \"Largeur gorge centrale\", \"Rayon fond (2e mention)\",\n",
    "        \"Hauteur jante\", \"Cercle de perçage\", \"Rayon congé usinage\",\n",
    "        \"Petit alésage\", \"Alésage moyen\", \"Alésage grand\"\n",
    "    ]\n",
    "}\n",
    "\n",
    "# Simulation des mesures pour 100 pièces\n",
    "num_samples = 100\n",
    "date_start = datetime.now().date()\n",
    "\n",
    "data_samples = []\n",
    "for i in range(num_samples):\n",
    "    sample_date = date_start + timedelta(days=i)\n",
    "    serial_number = f\"S{i+1:04d}\"\n",
    "    order_fabrication = f\"{np.random.randint(1000, 9999)}\"\n",
    "    \n",
    "    for cote, tol_sup, tol_inf, nom_cote in zip(\n",
    "        cotes_data['Cote'],\n",
    "        cotes_data['Tolérance Supérieure'],\n",
    "        cotes_data['Tolérance Inférieure'],\n",
    "        cotes_data['Nom_Cote']\n",
    "    ):\n",
    "        cote_valeur = cote\n",
    "        # Add noise with normal distribution\n",
    "        noise = np.random.normal(0, (tol_sup - tol_inf) / 6)  # Standard deviation is 1/6th of tolerance range\n",
    "        mesure_theorique = cote_valeur + np.random.uniform(tol_inf, tol_sup) + noise\n",
    "        tol_min = cote_valeur + tol_inf\n",
    "        tol_max = cote_valeur + tol_sup\n",
    "\n",
    "        data_samples.append({\n",
    "            \"Date\": sample_date,\n",
    "            \"Serial\": serial_number,\n",
    "            \"OF\": order_fabrication,\n",
    "            \"Nom_Cote\": nom_cote,\n",
    "            \"Mesure\": np.round(mesure_theorique, 3),\n",
    "            \"Nominal\": np.round(cote_valeur, 3),\n",
    "            \"Tolérance_Min\": np.round(tol_min, 3),\n",
    "            \"Tolérance_Max\": np.round(tol_max, 3)\n",
    "        })\n",
    "\n",
    "# Création du DataFrame final\n",
    "df_samples = pd.DataFrame(data_samples)\n",
    "\n",
    "# Affichage ou sauvegarde\n",
    "print(df_samples.head())\n",
    "df_samples.to_csv(\"simulation_mesures_metal.csv\", index=False)\n"
   ]
  },
  {
   "cell_type": "code",
   "execution_count": null,
   "id": "d1877c1d",
   "metadata": {},
   "outputs": [],
   "source": []
  },
  {
   "cell_type": "code",
   "execution_count": null,
   "id": "4c778731",
   "metadata": {},
   "outputs": [],
   "source": []
  }
 ],
 "metadata": {
  "kernelspec": {
   "display_name": "py39_tf211",
   "language": "python",
   "name": "python3"
  },
  "language_info": {
   "codemirror_mode": {
    "name": "ipython",
    "version": 3
   },
   "file_extension": ".py",
   "mimetype": "text/x-python",
   "name": "python",
   "nbconvert_exporter": "python",
   "pygments_lexer": "ipython3",
   "version": "3.9.18"
  }
 },
 "nbformat": 4,
 "nbformat_minor": 5
}
