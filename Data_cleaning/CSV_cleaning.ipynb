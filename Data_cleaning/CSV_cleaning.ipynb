{
 "cells": [
  {
   "cell_type": "code",
   "execution_count": 20,
   "id": "e09b4445",
   "metadata": {},
   "outputs": [],
   "source": [
    "import pandas as pd\n",
    "\n",
    "# Charger le fichier BRUT contenant le tableau complexe\n",
    "brut_path = \"D_HH120Brut.xlsx\"\n",
    "df_raw = pd.read_excel(brut_path, header=None)"
   ]
  },
  {
   "cell_type": "code",
   "execution_count": null,
   "id": "ab7db799",
   "metadata": {},
   "outputs": [],
   "source": [
    "# First parameter to identify the corner of the data structur\n",
    "row_data_start = 10\n",
    "column_data_start = 7\n",
    "\n",
    "# identify tolerences\n",
    "row_cote_names = 2\n",
    "row_min = 5\n",
    "row_aim = 6\n",
    "row_max = 7\n",
    "\n",
    "# identify parts\n",
    "row_info = 9\n",
    "column_datetime = 0\n",
    "column_serial = 1\n",
    "column_mesurement_type = 2\n",
    "column_review = 3\n",
    "column_signoff = 4\n",
    "column_platcode = 5\n",
    "column_of = 6"
   ]
  },
  {
   "cell_type": "code",
   "execution_count": 39,
   "id": "389cc546",
   "metadata": {},
   "outputs": [],
   "source": [
    "# Extraire les noms des cotes (en colonnes HH120, HH120.1, etc.)\n",
    "cote_names = df_raw.iloc[row_cote_names, column_data_start:].values\n",
    "min_tol = df_raw.iloc[row_min, column_data_start:].values\n",
    "aim_tol = df_raw.iloc[row_aim, column_data_start:].values\n",
    "max_tol = df_raw.iloc[row_max, column_data_start:].values"
   ]
  },
  {
   "cell_type": "code",
   "execution_count": 60,
   "id": "9e4ff031",
   "metadata": {},
   "outputs": [],
   "source": [
    "# Liste des colonnes d'info avant les mesures (datetime, serial, etc.)\n",
    "info_cols = df_raw.iloc[row_data_start:, :column_data_start]\n",
    "data_vals = df_raw.iloc[row_data_start:, column_data_start:]\n",
    "data_vals.columns = cote_names"
   ]
  },
  {
   "cell_type": "code",
   "execution_count": 56,
   "id": "ae5ac966",
   "metadata": {},
   "outputs": [],
   "source": [
    "info_cols_sorted = df_raw.iloc[row_data_start:,[column_datetime,column_serial,column_platcode,column_of]].rename(\n",
    "        columns={0: \"datetime\", 1: \"serial\", 5: \"plantcode\", 6: \"of\"}\n",
    "    )"
   ]
  },
  {
   "cell_type": "code",
   "execution_count": 76,
   "id": "5513cb96",
   "metadata": {},
   "outputs": [],
   "source": [
    "# Construction du format long\n",
    "records = []\n",
    "\n",
    "for idx, row in data_vals.iterrows():\n",
    "    info = info_cols.iloc[idx - row_data_start]\n",
    "    # print(idx,row_data_start)\n",
    "    for i, val in enumerate(row):\n",
    "        # print(i,val)\n",
    "        records.append({\n",
    "            \"datetime\": info[0],\n",
    "            \"serial\": info[1],\n",
    "            \"OF\": info[6],\n",
    "            \"cote\": cote_names[i],\n",
    "            \"valeur\": val,\n",
    "            \"min\": min_tol[i],\n",
    "            \"aim\": aim_tol[i],\n",
    "            \"max\": max_tol[i]\n",
    "        })\n",
    "\n",
    "df_long = pd.DataFrame(records)"
   ]
  }
 ],
 "metadata": {
  "kernelspec": {
   "display_name": "py39_tf211",
   "language": "python",
   "name": "python3"
  },
  "language_info": {
   "codemirror_mode": {
    "name": "ipython",
    "version": 3
   },
   "file_extension": ".py",
   "mimetype": "text/x-python",
   "name": "python",
   "nbconvert_exporter": "python",
   "pygments_lexer": "ipython3",
   "version": "3.9.18"
  }
 },
 "nbformat": 4,
 "nbformat_minor": 5
}
